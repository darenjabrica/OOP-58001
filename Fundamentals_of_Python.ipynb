{
  "nbformat": 4,
  "nbformat_minor": 0,
  "metadata": {
    "colab": {
      "name": "Fundamentals of Python.ipynb",
      "provenance": [],
      "authorship_tag": "ABX9TyMusCDGZrQqNTu7F/Y3+5l6",
      "include_colab_link": true
    },
    "kernelspec": {
      "name": "python3",
      "display_name": "Python 3"
    },
    "language_info": {
      "name": "python"
    }
  },
  "cells": [
    {
      "cell_type": "markdown",
      "metadata": {
        "id": "view-in-github",
        "colab_type": "text"
      },
      "source": [
        "<a href=\"https://colab.research.google.com/github/darenjabrica/OOP-58001/blob/main/Fundamentals_of_Python.ipynb\" target=\"_parent\"><img src=\"https://colab.research.google.com/assets/colab-badge.svg\" alt=\"Open In Colab\"/></a>"
      ]
    },
    {
      "cell_type": "markdown",
      "source": [
        "#Fundamentals of Python"
      ],
      "metadata": {
        "id": "UPggR0Rfkd9f"
      }
    },
    {
      "cell_type": "markdown",
      "source": [
        "Phython Variables"
      ],
      "metadata": {
        "id": "7pvpEQVbkwNe"
      }
    },
    {
      "cell_type": "code",
      "source": [
        "x = float(1)\n",
        "a, b = 0, -1\n",
        "a,b,c=\"Sally\",\"John\",\"Ana\"\n",
        "\n",
        "print('This a sample')\n",
        "print(a)\n",
        "print(b)\n",
        "print(c)"
      ],
      "metadata": {
        "colab": {
          "base_uri": "https://localhost:8080/"
        },
        "id": "ENelSVeNk1J_",
        "outputId": "52d26926-e48f-476c-f439-3ad8c86c7445"
      },
      "execution_count": 12,
      "outputs": [
        {
          "output_type": "stream",
          "name": "stdout",
          "text": [
            "This a sample\n",
            "Sally\n",
            "John\n",
            "Ana\n"
          ]
        }
      ]
    },
    {
      "cell_type": "markdown",
      "source": [
        "Casting"
      ],
      "metadata": {
        "id": "QgG4vzmWmKUT"
      }
    },
    {
      "cell_type": "code",
      "source": [
        "print(x)"
      ],
      "metadata": {
        "colab": {
          "base_uri": "https://localhost:8080/"
        },
        "id": "wQlMvAIDmYuh",
        "outputId": "3f101621-2402-46b4-9f7d-9acf39247c01"
      },
      "execution_count": 13,
      "outputs": [
        {
          "output_type": "stream",
          "name": "stdout",
          "text": [
            "1.0\n"
          ]
        }
      ]
    },
    {
      "cell_type": "markdown",
      "source": [
        "Type() Function"
      ],
      "metadata": {
        "id": "FjKKm8MEmvsa"
      }
    },
    {
      "cell_type": "code",
      "source": [
        "y=\"Johnny\"\n",
        "print(type(y))\n",
        "print(type(x))"
      ],
      "metadata": {
        "colab": {
          "base_uri": "https://localhost:8080/"
        },
        "id": "Cmw_qk2qm0RT",
        "outputId": "5496f780-2d66-4172-be01-774916804a32"
      },
      "execution_count": 18,
      "outputs": [
        {
          "output_type": "stream",
          "name": "stdout",
          "text": [
            "<class 'str'>\n",
            "<class 'float'>\n"
          ]
        }
      ]
    },
    {
      "cell_type": "markdown",
      "source": [
        "Double quotes  and Single quotes"
      ],
      "metadata": {
        "id": "FGtrst-0nqV2"
      }
    },
    {
      "cell_type": "code",
      "source": [
        "#h=\"Maria\"\n",
        "h='Maria'\n",
        "v=\"1\"\n",
        "v= 1\n",
        "print(h)\n",
        "print(v)\n",
        "print(v+1)"
      ],
      "metadata": {
        "colab": {
          "base_uri": "https://localhost:8080/"
        },
        "id": "R-T6V2pXnw5W",
        "outputId": "5fb949f6-3eee-40b3-ff8f-b7e12315d4fa"
      },
      "execution_count": 21,
      "outputs": [
        {
          "output_type": "stream",
          "name": "stdout",
          "text": [
            "Maria\n",
            "1\n",
            "2\n"
          ]
        }
      ]
    },
    {
      "cell_type": "markdown",
      "source": [
        "Multiple Variables"
      ],
      "metadata": {
        "id": "pjAQ_DlKo-sC"
      }
    },
    {
      "cell_type": "code",
      "source": [
        "x,y,z=\"one\",\"two\",\"three\"\n",
        "print(x)\n",
        "print(y)\n",
        "print(z)\n"
      ],
      "metadata": {
        "colab": {
          "base_uri": "https://localhost:8080/"
        },
        "id": "YCxDLlExpApw",
        "outputId": "dba04ace-7d6e-4d4f-8ba6-bedb23e402e8"
      },
      "execution_count": 29,
      "outputs": [
        {
          "output_type": "stream",
          "name": "stdout",
          "text": [
            "one\n",
            "two\n",
            "three\n"
          ]
        }
      ]
    },
    {
      "cell_type": "markdown",
      "source": [
        "One Value to Multiple Variables"
      ],
      "metadata": {
        "id": "t3me7rQ9qrhL"
      }
    },
    {
      "cell_type": "code",
      "source": [
        "x=y=z=\"Daren Jabrica\"\n",
        "print(x)\n",
        "print(y)\n",
        "print(z)"
      ],
      "metadata": {
        "colab": {
          "base_uri": "https://localhost:8080/"
        },
        "id": "AHA3Lf1aqu5T",
        "outputId": "31bf8044-75ae-4530-8163-6b745e4c6458"
      },
      "execution_count": 30,
      "outputs": [
        {
          "output_type": "stream",
          "name": "stdout",
          "text": [
            "Daren Jabrica\n",
            "Daren Jabrica\n",
            "Daren Jabrica\n"
          ]
        }
      ]
    },
    {
      "cell_type": "markdown",
      "source": [
        "Output Variables"
      ],
      "metadata": {
        "id": "Vrxgm3oDrL-t"
      }
    },
    {
      "cell_type": "code",
      "source": [
        "x='enjoying'\n",
        "y=\"Python is\"\n",
        "print(y + \" \" + x)"
      ],
      "metadata": {
        "colab": {
          "base_uri": "https://localhost:8080/"
        },
        "id": "uDDuxglqrPye",
        "outputId": "e63a88bc-2b2b-48b3-d60c-3fbeaf81e8cb"
      },
      "execution_count": 37,
      "outputs": [
        {
          "output_type": "stream",
          "name": "stdout",
          "text": [
            "Python is enjoying\n"
          ]
        }
      ]
    },
    {
      "cell_type": "markdown",
      "source": [
        "Arithmetic Operations"
      ],
      "metadata": {
        "id": "GksVOs3RtVCQ"
      }
    },
    {
      "cell_type": "code",
      "source": [
        "f= 1\n",
        "g= 2\n",
        "c= 6\n",
        "print(f+g)\n",
        "print(f-g)\n",
        "print(f*g)\n",
        "print(int(f/g))\n",
        "print(3/g)\n",
        "print(3%g)\n",
        "print(3//g)\n",
        "print(3**g)\n",
        "print(3|4)"
      ],
      "metadata": {
        "colab": {
          "base_uri": "https://localhost:8080/"
        },
        "id": "foiFI4xrtZ4x",
        "outputId": "901d59fa-d87f-4eeb-b282-6218ffba8fc1"
      },
      "execution_count": 53,
      "outputs": [
        {
          "output_type": "stream",
          "name": "stdout",
          "text": [
            "3\n",
            "-1\n",
            "2\n",
            "0\n",
            "1.5\n",
            "1\n",
            "1\n",
            "9\n",
            "7\n"
          ]
        }
      ]
    },
    {
      "cell_type": "markdown",
      "source": [
        "Boolean Operators"
      ],
      "metadata": {
        "id": "vh7ucPkaxSrA"
      }
    },
    {
      "cell_type": "code",
      "source": [
        "k= 2\n",
        "l=1\n",
        "\n",
        "print(k>>2) #shift twice right\n",
        "print(k<<2) #shift twice left"
      ],
      "metadata": {
        "colab": {
          "base_uri": "https://localhost:8080/"
        },
        "id": "H3yyuIGoxXlh",
        "outputId": "f807dec5-99b5-4e21-adc0-3831add46c7b"
      },
      "execution_count": 60,
      "outputs": [
        {
          "output_type": "stream",
          "name": "stdout",
          "text": [
            "0\n",
            "8\n"
          ]
        }
      ]
    },
    {
      "cell_type": "markdown",
      "source": [
        "Assignment Operators"
      ],
      "metadata": {
        "id": "BL1c3AcKz8Av"
      }
    },
    {
      "cell_type": "code",
      "source": [
        "s= 2\n",
        "s*=5 #Same as s=s * 5\n",
        "print(s)"
      ],
      "metadata": {
        "colab": {
          "base_uri": "https://localhost:8080/"
        },
        "id": "YhhfGEe3z-fu",
        "outputId": "e27d3202-1666-4125-d862-c5eb61b4ac9d"
      },
      "execution_count": 61,
      "outputs": [
        {
          "output_type": "stream",
          "name": "stdout",
          "text": [
            "10\n"
          ]
        }
      ]
    },
    {
      "cell_type": "markdown",
      "source": [
        "Ralational Operators"
      ],
      "metadata": {
        "id": "fGOP4pPI0MZA"
      }
    },
    {
      "cell_type": "code",
      "source": [
        "print(v>s) # v=1, s=2\n",
        "print(v==s)"
      ],
      "metadata": {
        "colab": {
          "base_uri": "https://localhost:8080/"
        },
        "id": "rt24YOUV0UbW",
        "outputId": "d74a86c4-1f4c-4e4b-bd11-2ec17600b9c2"
      },
      "execution_count": 64,
      "outputs": [
        {
          "output_type": "stream",
          "name": "stdout",
          "text": [
            "False\n",
            "False\n"
          ]
        }
      ]
    },
    {
      "cell_type": "markdown",
      "source": [
        "Logical Operators"
      ],
      "metadata": {
        "id": "50sYNSu_1Fs3"
      }
    },
    {
      "cell_type": "code",
      "source": [
        "print(v<s and s==s) #True\n",
        "print(v<s or s==v) #True\n",
        "print(not(s<v or s==v)) #True"
      ],
      "metadata": {
        "colab": {
          "base_uri": "https://localhost:8080/"
        },
        "id": "HxC8Lz4T1HH_",
        "outputId": "14aebe86-fd71-4887-c7b0-4a689f76d588"
      },
      "execution_count": 72,
      "outputs": [
        {
          "output_type": "stream",
          "name": "stdout",
          "text": [
            "True\n",
            "True\n",
            "True\n"
          ]
        }
      ]
    },
    {
      "cell_type": "markdown",
      "source": [
        "Identity Operators"
      ],
      "metadata": {
        "id": "Bvx_GIS-2DiK"
      }
    },
    {
      "cell_type": "code",
      "source": [
        "print(v is s)\n",
        "print(v is not s)"
      ],
      "metadata": {
        "colab": {
          "base_uri": "https://localhost:8080/"
        },
        "id": "TH33hyls2FAS",
        "outputId": "74d663a2-45f2-45ba-9ee8-d67c96706bf3"
      },
      "execution_count": 76,
      "outputs": [
        {
          "output_type": "stream",
          "name": "stdout",
          "text": [
            "False\n",
            "True\n"
          ]
        }
      ]
    }
  ]
}