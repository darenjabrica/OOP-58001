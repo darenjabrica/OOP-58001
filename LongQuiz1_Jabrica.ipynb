{
  "nbformat": 4,
  "nbformat_minor": 0,
  "metadata": {
    "colab": {
      "name": "LongQuiz1-Jabrica.ipynb",
      "provenance": [],
      "authorship_tag": "ABX9TyNGfUVQafrLykkXV/7LlaMC",
      "include_colab_link": true
    },
    "kernelspec": {
      "name": "python3",
      "display_name": "Python 3"
    },
    "language_info": {
      "name": "python"
    }
  },
  "cells": [
    {
      "cell_type": "markdown",
      "metadata": {
        "id": "view-in-github",
        "colab_type": "text"
      },
      "source": [
        "<a href=\"https://colab.research.google.com/github/darenjabrica/OOP-58001/blob/main/LongQuiz1_Jabrica.ipynb\" target=\"_parent\"><img src=\"https://colab.research.google.com/assets/colab-badge.svg\" alt=\"Open In Colab\"/></a>"
      ]
    },
    {
      "cell_type": "markdown",
      "source": [
        "#Long Quiz 1\n",
        "-Write a Python program that asks the user to enter the radius of a circle and solve its area and perimeter.\n",
        "\n",
        "-Create a class name Circle allowing you to build a circle with radius and pi attributes.\n",
        "\n",
        "-Create a method Display() the perimeter and area using an instantiation of a class.\n",
        "\n",
        "-Create a Perimeter() method to calculate the perimeter of the circle and an Area() method to calculate the area of ​​the circle."
      ],
      "metadata": {
        "id": "8fcCILVpSlE5"
      }
    },
    {
      "cell_type": "code",
      "execution_count": 1,
      "metadata": {
        "colab": {
          "base_uri": "https://localhost:8080/"
        },
        "id": "NlS64zWuSXtE",
        "outputId": "065e7abb-f0f3-4bb5-d554-5d3d02c737fe"
      },
      "outputs": [
        {
          "output_type": "stream",
          "name": "stdout",
          "text": [
            "7\n",
            "The perimeter of the circle is 43.96\n",
            "The area of the circle is 153.86\n"
          ]
        }
      ],
      "source": [
        "class Circle():\n",
        "  def __init__ (self, radius):\n",
        "    self.radius = int (radius)\n",
        "\n",
        "  def Perimeter (self):\n",
        "    return 2 * pi * self.radius\n",
        "  \n",
        "  def Area (self):\n",
        "    return pi * (self.radius ** 2)\n",
        "\n",
        "  def display (self):\n",
        "    print (\"The perimeter of the circle is\", self.Perimeter())\n",
        "    print (\"The area of the circle is\", self.Area())\n",
        "\n",
        "pi = 3.14\n",
        "Circle1 = Circle (input())\n",
        "Circle1.display()"
      ]
    }
  ]
}