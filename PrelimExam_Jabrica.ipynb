{
  "nbformat": 4,
  "nbformat_minor": 0,
  "metadata": {
    "colab": {
      "name": "PrelimExam_Jabrica.ipynb",
      "provenance": [],
      "authorship_tag": "ABX9TyNRxK9i9CSJaf7TDPa77mp+",
      "include_colab_link": true
    },
    "kernelspec": {
      "name": "python3",
      "display_name": "Python 3"
    },
    "language_info": {
      "name": "python"
    }
  },
  "cells": [
    {
      "cell_type": "markdown",
      "metadata": {
        "id": "view-in-github",
        "colab_type": "text"
      },
      "source": [
        "<a href=\"https://colab.research.google.com/github/darenjabrica/OOP-58001/blob/main/PrelimExam_Jabrica.ipynb\" target=\"_parent\"><img src=\"https://colab.research.google.com/assets/colab-badge.svg\" alt=\"Open In Colab\"/></a>"
      ]
    },
    {
      "cell_type": "markdown",
      "source": [
        "# Prelim Exam\n",
        "1. Write a Python to display your full name, student number, age, and course\n",
        "2. Create a class named Student with attributes: Name, Student_No, Age, School, and Course\n",
        "3. Create an object name Myself and assign an instance for each attribute.\n",
        "4. Create a method Self () using an instantiation of a class.\n",
        "5. Insert your GitHub link \"Prelim Exam\" from your repository named \"OOP 58001\" "
      ],
      "metadata": {
        "id": "wxfor7lZLSaz"
      }
    },
    {
      "cell_type": "code",
      "source": [
        "class Student ():\n",
        "  def __init__ (self, Name, StudentNum, Age, School, Course):\n",
        "    self.Name = Name\n",
        "    self.StudentNum = StudentNum\n",
        "    self.Age = Age\n",
        "    self.School = School\n",
        "    self.Course = Course\n",
        "\n",
        "  def Myself (self):\n",
        "    print (\"My name is\", self.Name)\n",
        "    print (\"My student number is\", self.StudentNum)\n",
        "    print (\"I'm\", self.Age, \"years old\")\n",
        "    print (\"I'm studying\", self.Course, \"at\", self.School)\n",
        "\n",
        "dj7 = Student (\"Daren T. Jabrica \", 202119728, 19, \"Adamson University\", \"BS in Computer Engineering\")\n",
        "dj7.Myself()"
      ],
      "metadata": {
        "colab": {
          "base_uri": "https://localhost:8080/"
        },
        "id": "7u50qz4-MM-l",
        "outputId": "4e69cc52-e815-4700-982a-a90ad23001ad"
      },
      "execution_count": 43,
      "outputs": [
        {
          "output_type": "stream",
          "name": "stdout",
          "text": [
            "My name is Daren T. Jabrica \n",
            "My student number is 202119728\n",
            "I'm 19 years old\n",
            "I'm studying BS in Computer Engineering at Adamson University\n"
          ]
        }
      ]
    }
  ]
}