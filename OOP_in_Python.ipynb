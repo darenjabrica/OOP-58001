{
  "nbformat": 4,
  "nbformat_minor": 0,
  "metadata": {
    "colab": {
      "name": "OOP in Python.ipynb",
      "provenance": [],
      "authorship_tag": "ABX9TyPoOLZZtgwaznJgsbk7X72b",
      "include_colab_link": true
    },
    "kernelspec": {
      "name": "python3",
      "display_name": "Python 3"
    },
    "language_info": {
      "name": "python"
    }
  },
  "cells": [
    {
      "cell_type": "markdown",
      "metadata": {
        "id": "view-in-github",
        "colab_type": "text"
      },
      "source": [
        "<a href=\"https://colab.research.google.com/github/darenjabrica/OOP-58001/blob/main/OOP_in_Python.ipynb\" target=\"_parent\"><img src=\"https://colab.research.google.com/assets/colab-badge.svg\" alt=\"Open In Colab\"/></a>"
      ]
    },
    {
      "cell_type": "markdown",
      "source": [
        "Create a Class"
      ],
      "metadata": {
        "id": "Tib5R2avqwHm"
      }
    },
    {
      "cell_type": "code",
      "execution_count": null,
      "metadata": {
        "id": "ckKRgUcNqfQZ"
      },
      "outputs": [],
      "source": [
        "class MyClass:\n",
        "  pass     #to create a class without method"
      ]
    },
    {
      "cell_type": "code",
      "source": [
        "class MyClass: ##the name of the class\n",
        "  x=40         #property of the class named MyClass\n"
      ],
      "metadata": {
        "id": "oXymAOpwrhnu"
      },
      "execution_count": null,
      "outputs": []
    },
    {
      "cell_type": "code",
      "source": [
        "class Car():      #creat a class named Car\n",
        "  def __init__(self,name,color):\n",
        "    self.name=name            #represents the instance of class named Car\n",
        "    self.color=color\n",
        "  \n",
        "  def description(self):\n",
        "    return self.name,self.color\n",
        "\n",
        "  def display(self):\n",
        "    print(\"The name and color of the car\", self.description())\n",
        "\n",
        "obj1 = Car(\"Toyota\",\"black\")    #to create an object with its attribute values\n",
        "obj1.display()"
      ],
      "metadata": {
        "colab": {
          "base_uri": "https://localhost:8080/"
        },
        "id": "QQYS8FZqskN8",
        "outputId": "a620181c-129a-46eb-949d-794fb479f7c6"
      },
      "execution_count": null,
      "outputs": [
        {
          "output_type": "stream",
          "name": "stdout",
          "text": [
            "The name and color of the car ('Toyota', 'black')\n"
          ]
        }
      ]
    },
    {
      "cell_type": "markdown",
      "source": [
        "Modify an Object Property"
      ],
      "metadata": {
        "id": "Pv4pkTy_wvIy"
      }
    },
    {
      "cell_type": "code",
      "source": [
        "obj1.name = \"Mitsubishi\"\n",
        "print(obj1.name)"
      ],
      "metadata": {
        "colab": {
          "base_uri": "https://localhost:8080/"
        },
        "id": "ok_y_17iw0Ch",
        "outputId": "e132cd5b-ef1c-4eae-f660-16fdfee492fa"
      },
      "execution_count": null,
      "outputs": [
        {
          "output_type": "stream",
          "name": "stdout",
          "text": [
            "Mitsubishi\n"
          ]
        }
      ]
    },
    {
      "cell_type": "code",
      "source": [
        "obj1.display()"
      ],
      "metadata": {
        "colab": {
          "base_uri": "https://localhost:8080/"
        },
        "id": "aUho_uPDxgvT",
        "outputId": "30505187-f9b2-4e39-be6f-8bd2c9bc2a65"
      },
      "execution_count": null,
      "outputs": [
        {
          "output_type": "stream",
          "name": "stdout",
          "text": [
            "The name and color of the car ('Mitsubishi', 'black')\n"
          ]
        }
      ]
    },
    {
      "cell_type": "markdown",
      "source": [
        "Delete the Object Property"
      ],
      "metadata": {
        "id": "UEYPNM5Jx48_"
      }
    },
    {
      "cell_type": "code",
      "source": [
        "class Car():      #creat a class named Car\n",
        "  def __init__(self,name,color):\n",
        "    self.name=name            #represents the instance of class named Car\n",
        "    self.color=color\n",
        "  \n",
        "  def description(self):\n",
        "    return self.name,self.color\n",
        "\n",
        "  def display(self):\n",
        "    print(\"The name and color of the car\", self.description())\n",
        "\n",
        "obj1 = Car(\"Mitsubishi\",\"black\")    #to create an object with its attribute values\n",
        "obj1.display()"
      ],
      "metadata": {
        "colab": {
          "base_uri": "https://localhost:8080/"
        },
        "id": "TqWq4gdjx7-8",
        "outputId": "f275b982-f77f-4f58-86a7-b635aa8d3e0d"
      },
      "execution_count": null,
      "outputs": [
        {
          "output_type": "stream",
          "name": "stdout",
          "text": [
            "The name and color of the car ('Mitsubishi', 'black')\n"
          ]
        }
      ]
    },
    {
      "cell_type": "code",
      "source": [
        "del obj1.color\n",
        "obj1,display()"
      ],
      "metadata": {
        "id": "ciqcPx5PzhQt"
      },
      "execution_count": null,
      "outputs": []
    },
    {
      "cell_type": "code",
      "source": [
        "del obj1\n",
        "obj1.deisplay()\n"
      ],
      "metadata": {
        "id": "w0GQ7t-u0NNI"
      },
      "execution_count": null,
      "outputs": []
    },
    {
      "cell_type": "code",
      "source": [
        "obj2= Car(\"BMW,\"red\")\n",
        "obj2.display()"
      ],
      "metadata": {
        "id": "Av1Sc0KL0EKf"
      },
      "execution_count": null,
      "outputs": []
    },
    {
      "cell_type": "markdown",
      "source": [
        "Application 1 - Write a python program to compute the are and perimeter of a rectangle. Use Rectangle as class name, and length, and weidth as attributes"
      ],
      "metadata": {
        "id": "6TISsYYD1sxC"
      }
    },
    {
      "cell_type": "code",
      "source": [
        "class Rectangle():\n",
        "    def __init__(self, l, w):\n",
        "        \n",
        "        self.length = l\n",
        "        self.width  = w\n",
        "        \n",
        "\n",
        "    def rectangle_area(self):\n",
        "        return 2(self.length*self.width)\n",
        "\n",
        "newRectangle = Rectangle 2(8, 10)\n",
        "print(newRectangle.rectangle_area())"
      ],
      "metadata": {
        "colab": {
          "base_uri": "https://localhost:8080/",
          "height": 130
        },
        "id": "J4MF7TQR2XdZ",
        "outputId": "81b4b44d-2c4d-4468-b0ff-a7e98c53dd25"
      },
      "execution_count": null,
      "outputs": [
        {
          "output_type": "error",
          "ename": "SyntaxError",
          "evalue": "ignored",
          "traceback": [
            "\u001b[0;36m  File \u001b[0;32m\"<ipython-input-55-2f5322283633>\"\u001b[0;36m, line \u001b[0;32m11\u001b[0m\n\u001b[0;31m    newRectangle = Rectangle 2(8, 10)\u001b[0m\n\u001b[0m                             ^\u001b[0m\n\u001b[0;31mSyntaxError\u001b[0m\u001b[0;31m:\u001b[0m invalid syntax\n"
          ]
        }
      ]
    },
    {
      "cell_type": "markdown",
      "source": [
        "Application 2 - Write a python program to display a class name OOP_58001 wiht your student no. and fullname(Surname, First Name) as attributes"
      ],
      "metadata": {
        "id": "AqH-1cWc4_iW"
      }
    },
    {
      "cell_type": "code",
      "source": [
        "class OOP_58001\n",
        " pass"
      ],
      "metadata": {
        "id": "bcRibQyQ5LTl"
      },
      "execution_count": null,
      "outputs": []
    },
    {
      "cell_type": "code",
      "source": [
        "class Person:\n",
        " def __init__(self,student,number):\n",
        "  self.student = student\n",
        "  self.number = number\n",
        "\n",
        " def myFunction(self):\n",
        "  print(\"I am\",self.student,\"and my student number is\", self.number)\n",
        "  print(\"Section - OOP_58002\")\n",
        "\n",
        "\n",
        "p1= Person(\"Jabrica, Daren T.\", 202119728)\n",
        "p1.myFunction()"
      ],
      "metadata": {
        "id": "8nHcPajr5Pc1",
        "outputId": "c8e3ca51-522b-4b98-dc65-705bac07936d",
        "colab": {
          "base_uri": "https://localhost:8080/"
        }
      },
      "execution_count": 1,
      "outputs": [
        {
          "output_type": "stream",
          "name": "stdout",
          "text": [
            "I am Jabrica, Daren T. and my student number is 202119728\n",
            "Section - OOP_58002\n"
          ]
        }
      ]
    }
  ]
}